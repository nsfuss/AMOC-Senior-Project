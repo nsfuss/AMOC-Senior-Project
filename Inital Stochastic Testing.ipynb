{
 "cells": [
  {
   "cell_type": "code",
   "execution_count": 4,
   "metadata": {},
   "outputs": [],
   "source": [
    "import numpy as np\n",
    "import matplotlib.pyplot as plt\n",
    "import matplotlib as mpl\n",
    "import scipy.integrate as integ\n",
    "from functions import *\n",
    "\n",
    "rng = np.random.default_rng()\n",
    "mpl.rc('xtick', direction='in', top=True)\n",
    "mpl.rc('ytick', direction='in', right=True)\n",
    "mpl.rc('xtick.minor', visible=True)\n",
    "mpl.rc('ytick.minor', visible=True)"
   ]
  },
  {
   "cell_type": "markdown",
   "metadata": {},
   "source": [
    "\n",
    "## Goal\n",
    "Given a random q to start at, examine how $\\frac{d \\Delta S}{dt}$ evolves w.r.t $\\Delta S$ with static $H$  \n",
    "Note: Want to see within the different equilibrium zones\n"
   ]
  },
  {
   "cell_type": "code",
   "execution_count": null,
   "metadata": {},
   "outputs": [
    {
     "name": "stdout",
     "output_type": "stream",
     "text": [
      "\u001b[1;31mType:\u001b[0m        Generator\n",
      "\u001b[1;31mString form:\u001b[0m Generator(PCG64)\n",
      "\u001b[1;31mFile:\u001b[0m        c:\\users\\kille\\anaconda3\\lib\\site-packages\\numpy\\random\\_generator.cp39-win_amd64.pyd\n",
      "\u001b[1;31mDocstring:\u001b[0m  \n",
      "Generator(bit_generator)\n",
      "\n",
      "Container for the BitGenerators.\n",
      "\n",
      "``Generator`` exposes a number of methods for generating random\n",
      "numbers drawn from a variety of probability distributions. In addition to\n",
      "the distribution-specific arguments, each method takes a keyword argument\n",
      "`size` that defaults to ``None``. If `size` is ``None``, then a single\n",
      "value is generated and returned. If `size` is an integer, then a 1-D\n",
      "array filled with generated values is returned. If `size` is a tuple,\n",
      "then an array with that shape is filled and returned.\n",
      "\n",
      "The function :func:`numpy.random.default_rng` will instantiate\n",
      "a `Generator` with numpy's default `BitGenerator`.\n",
      "\n",
      "**No Compatibility Guarantee**\n",
      "\n",
      "``Generator`` does not provide a version compatibility guarantee. In\n",
      "particular, as better algorithms evolve the bit stream may change.\n",
      "\n",
      "Parameters\n",
      "----------\n",
      "bit_generator : BitGenerator\n",
      "    BitGenerator to use as the core generator.\n",
      "\n",
      "Notes\n",
      "-----\n",
      "The Python stdlib module `random` contains pseudo-random number generator\n",
      "with a number of methods that are similar to the ones available in\n",
      "``Generator``. It uses Mersenne Twister, and this bit generator can\n",
      "be accessed using ``MT19937``. ``Generator``, besides being\n",
      "NumPy-aware, has the advantage that it provides a much larger number\n",
      "of probability distributions to choose from.\n",
      "\n",
      "Examples\n",
      "--------\n",
      ">>> from numpy.random import Generator, PCG64\n",
      ">>> rng = Generator(PCG64())\n",
      ">>> rng.standard_normal()\n",
      "-0.203  # random\n",
      "\n",
      "See Also\n",
      "--------\n",
      "default_rng : Recommended constructor for `Generator`.\n"
     ]
    }
   ],
   "source": [
    "q = 3 * rng.random() # set q to a random value on the half open interval [0,3)\n",
    "dS = "
   ]
  }
 ],
 "metadata": {
  "kernelspec": {
   "display_name": "base",
   "language": "python",
   "name": "python3"
  },
  "language_info": {
   "codemirror_mode": {
    "name": "ipython",
    "version": 3
   },
   "file_extension": ".py",
   "mimetype": "text/x-python",
   "name": "python",
   "nbconvert_exporter": "python",
   "pygments_lexer": "ipython3",
   "version": "3.9.13"
  }
 },
 "nbformat": 4,
 "nbformat_minor": 2
}
